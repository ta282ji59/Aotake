import requests
import pandas as pd

api_key = ''  # ここでAPIキーを設定

keyword = input("検索キーワードを教えてください")
location = input("検索する対象地域を教えてください")

url = f'https://maps.googleapis.com/maps/api/place/textsearch/json?query={keyword}+in+{location}&language=ja&key={api_key}'

response = requests.get(url)

if response.status_code == 200:
    data = response.json()
    results = data.get('results', [])

    df = pd.DataFrame(columns=['店名', '住所', '緯度', '経度', '評価', '口コミ', '営業時間', '写真', 'ウェブサイト', '電話番号', '価格帯', '種別'])
    for result in results:
        name = result.get('name', '店名情報なし')
        address = result.get('formatted_address', '住所情報なし')
        location = result.get('geometry', {}).get('location', {})
        latitude = location.get('lat', '緯度情報なし')
        longitude = location.get('lng', '経度情報なし')
        rating = result.get('rating', '評価情報なし')
        reviews = result.get('reviews', [])
        opening_hours = result.get('opening_hours', {}).get('weekday_text', '営業時間情報なし')
        photos = result.get('photos', [])
        website = result.get('website', 'ウェブサイト情報なし')
        phone_number = result.get('formatted_phone_number', '電話番号情報なし')
        price_level = result.get('price_level', '価格帯情報なし')
        types = result.get('types', '種別情報なし')

        df = pd.concat([df, pd.DataFrame({'店名': [name], '住所': [address], '緯度': [latitude], '経度': [longitude], '評価': [rating], '口コミ': [reviews], '営業時間': [opening_hours], '写真': [photos], 'ウェブサイト': [website], '電話番号': [phone_number], '価格帯': [price_level], '種別': [types]})], ignore_index=True)

    csv_name = input("保存したいcsvファイル名を教えてください(.csvは不要)")
    csv_name += '.csv'
    df.to_csv(csv_name, index=False, encoding='shift_jis')
    print(f'CSVファイルがカレントディレクトリに保存されました: {csv_name}')
else:
    print('リクエストに問題があります。')
